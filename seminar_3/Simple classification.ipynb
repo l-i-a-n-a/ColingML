{
 "cells": [
  {
   "cell_type": "markdown",
   "id": "928c9986",
   "metadata": {
    "slideshow": {
     "slide_type": "slide"
    }
   },
   "source": [
    "# Базовые алгоритмы классификации\n",
    "\n",
    "\n",
    "* Метод k ближайших соседей (kNN)\n",
    "\n",
    "* Перцептрон (Perceptron)"
   ]
  },
  {
   "cell_type": "markdown",
   "id": "4e090265",
   "metadata": {
    "slideshow": {
     "slide_type": "slide"
    }
   },
   "source": [
    "### k nearest neighbours\n",
    "\n",
    "* Метрический алгоритм классификации\n",
    "* Непараметризированный алгоритм\n",
    "* Одноступенчатый шаг обучения (запоминание обучающей выборки)\n",
    "* Один гиперпараметр (k)"
   ]
  },
  {
   "cell_type": "markdown",
   "id": "fa778f3f",
   "metadata": {
    "slideshow": {
     "slide_type": "slide"
    }
   },
   "source": [
    "![initial_data](https://i.ibb.co/5xDy0hH/image.png)"
   ]
  },
  {
   "cell_type": "markdown",
   "id": "685f8a99",
   "metadata": {
    "slideshow": {
     "slide_type": "subslide"
    }
   },
   "source": [
    "![new_smaple](https://i.ibb.co/ng4Vh5J/image.png)"
   ]
  },
  {
   "cell_type": "markdown",
   "id": "2d17d158",
   "metadata": {
    "slideshow": {
     "slide_type": "subslide"
    }
   },
   "source": [
    "# Евклидово расстояние\n",
    "\n",
    "$$D_E = \\sqrt{\\sum^n_{i=1}(x_i - y_i)^2}$$"
   ]
  },
  {
   "cell_type": "markdown",
   "id": "52770b9e",
   "metadata": {
    "slideshow": {
     "slide_type": "subslide"
    }
   },
   "source": [
    "\n",
    "\n",
    "\n",
    "![dist](https://i.ibb.co/QpZNLgZ/image.png)"
   ]
  },
  {
   "cell_type": "markdown",
   "id": "be7e8872",
   "metadata": {
    "slideshow": {
     "slide_type": "subslide"
    }
   },
   "source": [
    "# K = 3\n",
    "\n",
    "![top3](https://i.ibb.co/z7wjxM0/image.png)"
   ]
  },
  {
   "cell_type": "markdown",
   "id": "cbc6cfd6",
   "metadata": {
    "slideshow": {
     "slide_type": "subslide"
    }
   },
   "source": [
    "# K = 7\n",
    "\n",
    "![k7](https://i.ibb.co/LhMTn1H/image.png)"
   ]
  },
  {
   "cell_type": "markdown",
   "id": "2aa654b7",
   "metadata": {
    "slideshow": {
     "slide_type": "slide"
    }
   },
   "source": [
    "## Особенности алгоритма\n",
    "\n",
    "* Предсказание сильно зависит от k (необходимо подбирать эмпирически)\n",
    "* Важна нормализация признаков\n",
    "* Часто выбирают нечетное значение k"
   ]
  },
  {
   "cell_type": "markdown",
   "id": "1a15f168",
   "metadata": {
    "slideshow": {
     "slide_type": "slide"
    }
   },
   "source": [
    "![crossval](https://miro.medium.com/max/1100/0*eWk2HhEzPCHoDCfW.png)"
   ]
  },
  {
   "cell_type": "code",
   "execution_count": 2,
   "id": "ac980973",
   "metadata": {
    "slideshow": {
     "slide_type": "slide"
    }
   },
   "outputs": [],
   "source": [
    "class KNNModel:\n",
    "    \n",
    "    def __init__(self, k=3):\n",
    "        self.k = k\n",
    "    \n",
    "    def fit(X):\n",
    "        assert len(X.shape) == 2\n",
    "        self.X = X\n",
    "        \n",
    "    def predict(X):\n",
    "        # calculate distances for each row in X\n",
    "        # argsort each row by distance\n",
    "        # get top k elemnts\n",
    "        # get most frequent class in each top k\n",
    "        # return results\n",
    "        pass"
   ]
  },
  {
   "cell_type": "markdown",
   "id": "4626bc13",
   "metadata": {
    "slideshow": {
     "slide_type": "slide"
    }
   },
   "source": [
    "# Perceptron"
   ]
  },
  {
   "cell_type": "markdown",
   "id": "40c4eb7e",
   "metadata": {
    "slideshow": {
     "slide_type": "slide"
    }
   },
   "source": [
    "### Перцептрон\n",
    "\n",
    "1. Используется только в случаях, когда данные линейно разделимы\n",
    "\n",
    "![linear_sep](https://i1.wp.com/www.tarekatwan.com/wp-content/uploads/2017/12/linear_sep.png?resize=1000%2C409)"
   ]
  },
  {
   "cell_type": "markdown",
   "id": "7d9e21a6",
   "metadata": {
    "slideshow": {
     "slide_type": "subslide"
    }
   },
   "source": [
    "2. Задаётся парметрами: \n",
    "\n",
    "$\\eta$  <-- темп обучения (learning rate)\n",
    "\n",
    "$w$  <-- коэффициенты модели"
   ]
  },
  {
   "cell_type": "markdown",
   "id": "cc9903d7",
   "metadata": {
    "slideshow": {
     "slide_type": "subslide"
    }
   },
   "source": [
    "$w = (w_0, w_1, w_2)$\n",
    "\n",
    "$x = (1, x_1, x_2)$\n",
    "\n",
    "$w_0$ - обязательная константа"
   ]
  },
  {
   "cell_type": "markdown",
   "id": "55abc0f7",
   "metadata": {
    "slideshow": {
     "slide_type": "subslide"
    }
   },
   "source": [
    "$f(z) = \\left\\{ \\begin{array}{rcl}\n",
    "1 & if w\\cdot x > 0\\\\ \n",
    "0 & otherwise\n",
    "\\end{array}\\right.$"
   ]
  },
  {
   "cell_type": "markdown",
   "id": "1aca36d2",
   "metadata": {
    "slideshow": {
     "slide_type": "subslide"
    }
   },
   "source": [
    "$w = (0, 1, 0.5)$\n",
    "\n",
    "$x = (x_0, x_1, x_2)$\n",
    "\n",
    "$\\left[ \\begin{array}{c}\n",
    "0 * x_0 + \\\\\n",
    "1 * x_1 + \\\\\n",
    "0.5 * x_2 \\end{array} \\right]  > 0\n",
    "$\n",
    "\n",
    "$1 + x_1 + 0.5x_2 > 0$\n",
    "\n",
    "$x_2 > -2x_1$"
   ]
  },
  {
   "cell_type": "markdown",
   "id": "6cad7794",
   "metadata": {
    "slideshow": {
     "slide_type": "slide"
    }
   },
   "source": [
    "![a](https://i.ibb.co/TBNK0Ns/1.jpg)"
   ]
  },
  {
   "cell_type": "markdown",
   "id": "d7deb6d6",
   "metadata": {
    "slideshow": {
     "slide_type": "subslide"
    }
   },
   "source": [
    "$x_2 > -2x_1$\n",
    "\n",
    "![image.png](https://i.ibb.co/RTkxnp1/2.jpg)"
   ]
  },
  {
   "cell_type": "markdown",
   "id": "146e12ff",
   "metadata": {
    "slideshow": {
     "slide_type": "slide"
    }
   },
   "source": [
    "### Шаг обновления в перцептроне\n",
    "\n",
    "Для неверно определенного примера $x_i$\n",
    "\n",
    "$w_j' = w_j - \\eta d x_{ij}$\n",
    "\n",
    "$d = \\left\\{ \\begin{array}{rcl}\n",
    "1 &  (если)ответ = 1 \\\\ \n",
    "-1 & (если)ответ = 0\n",
    "\\end{array}\\right.$"
   ]
  },
  {
   "cell_type": "markdown",
   "id": "3cd4a6d6",
   "metadata": {
    "slideshow": {
     "slide_type": "slide"
    }
   },
   "source": [
    "![](https://www.cs.cornell.edu/courses/cs4780/2018fa/lectures/images/perceptron/perceptron_algo.png)"
   ]
  },
  {
   "cell_type": "markdown",
   "id": "7b5e4077",
   "metadata": {
    "slideshow": {
     "slide_type": "slide"
    }
   },
   "source": [
    "![image.png](https://i.ibb.co/Vmk00sR/image.png)"
   ]
  },
  {
   "cell_type": "markdown",
   "id": "b0ff4f03",
   "metadata": {
    "slideshow": {
     "slide_type": "subslide"
    }
   },
   "source": [
    "\n",
    "[Ссылка на дополнительные пояснения Перцептрона](https://www.cs.cornell.edu/courses/cs4780/2018fa/lectures/lecturenote03.html)"
   ]
  },
  {
   "cell_type": "markdown",
   "id": "7f300b56",
   "metadata": {
    "slideshow": {
     "slide_type": "slide"
    }
   },
   "source": [
    "![lr](http://aishelf.org/wp-content/uploads/2021/03/sgd_2.jpg)"
   ]
  },
  {
   "cell_type": "code",
   "execution_count": 4,
   "id": "ff66229b",
   "metadata": {
    "slideshow": {
     "slide_type": "slide"
    }
   },
   "outputs": [],
   "source": [
    "class Perceptron:\n",
    "    def __init__(self, lr):\n",
    "        self.lr = lr\n",
    "    \n",
    "    def fit(X, y):\n",
    "        while True:\n",
    "            ###\n",
    "            pass\n",
    "    \n",
    "    def predict(X):\n",
    "        return"
   ]
  },
  {
   "cell_type": "code",
   "execution_count": null,
   "id": "fbf8c881",
   "metadata": {},
   "outputs": [],
   "source": []
  }
 ],
 "metadata": {
  "celltoolbar": "Slideshow",
  "kernelspec": {
   "display_name": "Python 3 (ipykernel)",
   "language": "python",
   "name": "python3"
  },
  "language_info": {
   "codemirror_mode": {
    "name": "ipython",
    "version": 3
   },
   "file_extension": ".py",
   "mimetype": "text/x-python",
   "name": "python",
   "nbconvert_exporter": "python",
   "pygments_lexer": "ipython3",
   "version": "3.8.10"
  }
 },
 "nbformat": 4,
 "nbformat_minor": 5
}
